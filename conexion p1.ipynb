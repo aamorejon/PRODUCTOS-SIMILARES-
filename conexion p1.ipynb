{
 "cells": [
  {
   "cell_type": "code",
   "execution_count": 12,
   "metadata": {},
   "outputs": [
    {
     "name": "stdout",
     "output_type": "stream",
     "text": [
      "Solicitud exitosa\n",
      "{'value': True, 'EMCs': '[{\"attribute_group_id\":\"10340\",\"attribute_group_name\":\"Especificaciones\",\"attribute_group_code\":\"especificaciones\",\"sort_order\":\"109\",\"default_id\":\"0\",\"tab_group_code\":\"basic\",\"attributes\":[{\"attribute_id\":\"596\",\"entity_type_id\":\"4\",\"attribute_code\":\"largo_del_cable\",\"attribute_model\":null,\"backend_model\":null,\"backend_type\":\"int\",\"backend_table\":null,\"frontend_model\":null,\"frontend_input\":\"select\",\"frontend_label\":\"Largo del cable (m)\",\"frontend_class\":null,\"source_model\":\"Magento\\\\\\\\Eav\\\\\\\\Model\\\\\\\\Entity\\\\\\\\Attribute\\\\\\\\Source\\\\\\\\Table\",\"is_required\":\"0\",\"is_user_defined\":\"1\",\"default_value\":\"2827\",\"is_unique\":\"0\",\"note\":null,\"frontend_input_renderer\":null,\"is_global\":\"0\",\"is_visible\":\"1\",\"is_searchable\":\"0\",\"is_filterable\":\"0\",\"is_comparable\":\"1\",\"is_visible_on_front\":\"1\",\"is_html_allowed_on_front\":\"1\",\"is_used_for_price_rules\":\"0\",\"is_filterable_in_search\":\"0\",\"used_in_product_listing\":\"0\",\"used_for_sort_by\":\"0\",\"apply_to\":null,\"is_visible_in_advanced_search\":\"0\",\"position\":\"0\",\"is_wysiwyg_enabled\":\"0\",\"is_used_for_promo_rules\":\"0\",\"is_required_in_admin_store\":\"0\",\"is_used_in_grid\":\"0\",\"is_visible_in_grid\":\"0\",\"is_filterable_in_grid\":\"0\",\"search_weight\":\"1\",\"is_pagebuilder_enabled\":\"0\",\"additional_data\":null,\"entity_type\":{},\"options\":[{\"label\":\" \",\"value\":\"\"},{\"value\":\"4312\",\"label\":\"0.5\"},{\"value\":\"4313\",\"label\":\"0.6\"},{\"value\":\"4314\",\"label\":\"0.7\"},{\"value\":\"4315\",\"label\":\"0.8\"},{\"value\":\"4316\",\"label\":\"0.9\"},{\"value\":\"4326\",\"label\":\"0.91\"},{\"value\":\"4318\",\"label\":\"1\"},{\"value\":\"4319\",\"label\":\"1.1\"},{\"value\":\"4320\",\"label\":\"1.2\"},{\"value\":\"4321\",\"label\":\"1.3\"},{\"value\":\"4327\",\"label\":\"1.35\"},{\"value\":\"2745\",\"label\":\"1.4\"},{\"value\":\"4322\",\"label\":\"1.5\"},{\"value\":\"4323\",\"label\":\"1.6\"},{\"value\":\"4324\",\"label\":\"1.7\"},{\"value\":\"4325\",\"label\":\"1.8\"},{\"value\":\"4328\",\"label\":\"1.85\"},{\"value\":\"4317\",\"label\":\"1.9\"},{\"value\":\"2746\",\"label\":\"2\"},{\"value\":\"4329\",\"label\":\"2.1\"},{\"value\":\"4330\",\"label\":\"2.2\"},{\"value\":\"2747\",\"label\":\"2.54\"},{\"value\":\"2748\",\"label\":\"6.1\"},{\"value\":\"2827\",\"label\":\"N\\\\/A\"}]},{\"attribute_id\":\"871\",\"entity_type_id\":\"4\",\"attribute_code\":\"tipo_entrada_cable\",\"attribute_model\":null,\"backend_model\":null,\"backend_type\":\"int\",\"backend_table\":null,\"frontend_model\":null,\"frontend_input\":\"select\",\"frontend_label\":\"Tipo de entrada\",\"frontend_class\":null,\"source_model\":\"Magento\\\\\\\\Eav\\\\\\\\Model\\\\\\\\Entity\\\\\\\\Attribute\\\\\\\\Source\\\\\\\\Table\",\"is_required\":\"0\",\"is_user_defined\":\"1\",\"default_value\":\"\",\"is_unique\":\"0\",\"note\":null,\"frontend_input_renderer\":null,\"is_global\":\"0\",\"is_visible\":\"1\",\"is_searchable\":\"0\",\"is_filterable\":\"1\",\"is_comparable\":\"1\",\"is_visible_on_front\":\"1\",\"is_html_allowed_on_front\":\"1\",\"is_used_for_price_rules\":\"0\",\"is_filterable_in_search\":\"0\",\"used_in_product_listing\":\"0\",\"used_for_sort_by\":\"0\",\"apply_to\":null,\"is_visible_in_advanced_search\":\"0\",\"position\":\"0\",\"is_wysiwyg_enabled\":\"0\",\"is_used_for_promo_rules\":\"0\",\"is_required_in_admin_store\":\"0\",\"is_used_in_grid\":\"0\",\"is_visible_in_grid\":\"0\",\"is_filterable_in_grid\":\"0\",\"search_weight\":\"1\",\"is_pagebuilder_enabled\":\"0\",\"additional_data\":null,\"entity_type\":{},\"options\":[{\"label\":\" \",\"value\":\"\"},{\"value\":\"4041\",\"label\":\"Auxiliar\"},{\"value\":\"4460\",\"label\":\"HDMI\"},{\"value\":\"4039\",\"label\":\"Lightning\"},{\"value\":\"4040\",\"label\":\"Micro USB\"},{\"value\":\"4038\",\"label\":\"Otros\"},{\"value\":\"4042\",\"label\":\"Tipo C\"},{\"value\":\"4338\",\"label\":\"USB\"}]},{\"attribute_id\":\"872\",\"entity_type_id\":\"4\",\"attribute_code\":\"tipo_salida_cable\",\"attribute_model\":null,\"backend_model\":null,\"backend_type\":\"int\",\"backend_table\":null,\"frontend_model\":null,\"frontend_input\":\"select\",\"frontend_label\":\"Tipo de salida\",\"frontend_class\":null,\"source_model\":\"Magento\\\\\\\\Eav\\\\\\\\Model\\\\\\\\Entity\\\\\\\\Attribute\\\\\\\\Source\\\\\\\\Table\",\"is_required\":\"0\",\"is_user_defined\":\"1\",\"default_value\":\"\",\"is_unique\":\"0\",\"note\":null,\"frontend_input_renderer\":null,\"is_global\":\"0\",\"is_visible\":\"1\",\"is_searchable\":\"0\",\"is_filterable\":\"1\",\"is_comparable\":\"1\",\"is_visible_on_front\":\"1\",\"is_html_allowed_on_front\":\"1\",\"is_used_for_price_rules\":\"0\",\"is_filterable_in_search\":\"0\",\"used_in_product_listing\":\"0\",\"used_for_sort_by\":\"0\",\"apply_to\":null,\"is_visible_in_advanced_search\":\"0\",\"position\":\"0\",\"is_wysiwyg_enabled\":\"0\",\"is_used_for_promo_rules\":\"0\",\"is_required_in_admin_store\":\"0\",\"is_used_in_grid\":\"0\",\"is_visible_in_grid\":\"0\",\"is_filterable_in_grid\":\"0\",\"search_weight\":\"1\",\"is_pagebuilder_enabled\":\"0\",\"additional_data\":null,\"entity_type\":{},\"options\":[{\"label\":\" \",\"value\":\"\"},{\"value\":\"4046\",\"label\":\"Auxiliar\"},{\"value\":\"4044\",\"label\":\"Lightning\"},{\"value\":\"4045\",\"label\":\"Micro USB\"},{\"value\":\"4043\",\"label\":\"Otros\"},{\"value\":\"4047\",\"label\":\"Tipo C\"},{\"value\":\"4339\",\"label\":\"USB\"}]}]}]', 'EMC_values': None}\n"
     ]
    }
   ],
   "source": [
    "#CONEXION A ENDPOINT CON AUTENTICACION DE COOKIES\n",
    "\n",
    "import requests\n",
    "import json\n",
    "\n",
    "# URL ENDPOINT\n",
    "url = 'https://apps.distelsa.net/FlujoSku/Proveedores/cargarEMCs'\n",
    "\n",
    "# CREDENCIALES COOKIES\n",
    "login_data = {\n",
    "    'txt_login_username': '11110',\n",
    "    'txt_login_password': 'Chiquilla.21'\n",
    "}\n",
    "\n",
    "\n",
    "# DEFIFICION DE HEADERS CON COOKIE ARRAFINITY Y ASP.NET_SESSIONID\n",
    "headers = {\n",
    "    'Cookie': 'ARRAffinity=c4ba1e2211e8bb24de1d78e35c68d1196e2f4c3e25e3040ec9f1c47f0412a550; ASP.NET_SessionId=k02jkspuk3mkfe4yplyiifkz',\n",
    "    'Accept': 'application/json',\n",
    "}\n",
    "\n",
    "#PARAMETROS DE CONSULTA = ID DE SKU INTERNO DE ALEF\n",
    "\n",
    "params = {\n",
    "    'id': '3888',\n",
    "}\n",
    "\n",
    "\n",
    "# SOLICITUD GET CON URL HEADERS Y PARAMETROS CONFIGURADOS\n",
    "response = requests.get(url, headers=headers, params=params)\n",
    "\n",
    "# POSIBLES RESPUESTAS DEL ENDPOINT\n",
    "if response.status_code == 200:\n",
    "    print(\"Solicitud exitosa\")\n",
    "    # Accede al contenido de la respuesta\n",
    "    print(response.json())  # Asumiendo que la respuesta es JSON\n",
    "else:\n",
    "    print(f\"Error en la solicitud: {response.status_code}\")\n"
   ]
  },
  {
   "cell_type": "code",
   "execution_count": 13,
   "metadata": {},
   "outputs": [
    {
     "name": "stdout",
     "output_type": "stream",
     "text": [
      "[{\"attribute_group_id\":\"10340\",\"attribute_group_name\":\"Especificaciones\",\"attribute_group_code\":\"especificaciones\",\"sort_order\":\"109\",\"default_id\":\"0\",\"tab_group_code\":\"basic\",\"attributes\":[{\"attribute_id\":\"596\",\"entity_type_id\":\"4\",\"attribute_code\":\"largo_del_cable\",\"attribute_model\":null,\"backend_model\":null,\"backend_type\":\"int\",\"backend_table\":null,\"frontend_model\":null,\"frontend_input\":\"select\",\"frontend_label\":\"Largo del cable (m)\",\"frontend_class\":null,\"source_model\":\"Magento\\\\Eav\\\\Model\\\\Entity\\\\Attribute\\\\Source\\\\Table\",\"is_required\":\"0\",\"is_user_defined\":\"1\",\"default_value\":\"2827\",\"is_unique\":\"0\",\"note\":null,\"frontend_input_renderer\":null,\"is_global\":\"0\",\"is_visible\":\"1\",\"is_searchable\":\"0\",\"is_filterable\":\"0\",\"is_comparable\":\"1\",\"is_visible_on_front\":\"1\",\"is_html_allowed_on_front\":\"1\",\"is_used_for_price_rules\":\"0\",\"is_filterable_in_search\":\"0\",\"used_in_product_listing\":\"0\",\"used_for_sort_by\":\"0\",\"apply_to\":null,\"is_visible_in_advanced_search\":\"0\",\"position\":\"0\",\"is_wysiwyg_enabled\":\"0\",\"is_used_for_promo_rules\":\"0\",\"is_required_in_admin_store\":\"0\",\"is_used_in_grid\":\"0\",\"is_visible_in_grid\":\"0\",\"is_filterable_in_grid\":\"0\",\"search_weight\":\"1\",\"is_pagebuilder_enabled\":\"0\",\"additional_data\":null,\"entity_type\":{},\"options\":[{\"label\":\" \",\"value\":\"\"},{\"value\":\"4312\",\"label\":\"0.5\"},{\"value\":\"4313\",\"label\":\"0.6\"},{\"value\":\"4314\",\"label\":\"0.7\"},{\"value\":\"4315\",\"label\":\"0.8\"},{\"value\":\"4316\",\"label\":\"0.9\"},{\"value\":\"4326\",\"label\":\"0.91\"},{\"value\":\"4318\",\"label\":\"1\"},{\"value\":\"4319\",\"label\":\"1.1\"},{\"value\":\"4320\",\"label\":\"1.2\"},{\"value\":\"4321\",\"label\":\"1.3\"},{\"value\":\"4327\",\"label\":\"1.35\"},{\"value\":\"2745\",\"label\":\"1.4\"},{\"value\":\"4322\",\"label\":\"1.5\"},{\"value\":\"4323\",\"label\":\"1.6\"},{\"value\":\"4324\",\"label\":\"1.7\"},{\"value\":\"4325\",\"label\":\"1.8\"},{\"value\":\"4328\",\"label\":\"1.85\"},{\"value\":\"4317\",\"label\":\"1.9\"},{\"value\":\"2746\",\"label\":\"2\"},{\"value\":\"4329\",\"label\":\"2.1\"},{\"value\":\"4330\",\"label\":\"2.2\"},{\"value\":\"2747\",\"label\":\"2.54\"},{\"value\":\"2748\",\"label\":\"6.1\"},{\"value\":\"2827\",\"label\":\"N\\/A\"}]},{\"attribute_id\":\"871\",\"entity_type_id\":\"4\",\"attribute_code\":\"tipo_entrada_cable\",\"attribute_model\":null,\"backend_model\":null,\"backend_type\":\"int\",\"backend_table\":null,\"frontend_model\":null,\"frontend_input\":\"select\",\"frontend_label\":\"Tipo de entrada\",\"frontend_class\":null,\"source_model\":\"Magento\\\\Eav\\\\Model\\\\Entity\\\\Attribute\\\\Source\\\\Table\",\"is_required\":\"0\",\"is_user_defined\":\"1\",\"default_value\":\"\",\"is_unique\":\"0\",\"note\":null,\"frontend_input_renderer\":null,\"is_global\":\"0\",\"is_visible\":\"1\",\"is_searchable\":\"0\",\"is_filterable\":\"1\",\"is_comparable\":\"1\",\"is_visible_on_front\":\"1\",\"is_html_allowed_on_front\":\"1\",\"is_used_for_price_rules\":\"0\",\"is_filterable_in_search\":\"0\",\"used_in_product_listing\":\"0\",\"used_for_sort_by\":\"0\",\"apply_to\":null,\"is_visible_in_advanced_search\":\"0\",\"position\":\"0\",\"is_wysiwyg_enabled\":\"0\",\"is_used_for_promo_rules\":\"0\",\"is_required_in_admin_store\":\"0\",\"is_used_in_grid\":\"0\",\"is_visible_in_grid\":\"0\",\"is_filterable_in_grid\":\"0\",\"search_weight\":\"1\",\"is_pagebuilder_enabled\":\"0\",\"additional_data\":null,\"entity_type\":{},\"options\":[{\"label\":\" \",\"value\":\"\"},{\"value\":\"4041\",\"label\":\"Auxiliar\"},{\"value\":\"4460\",\"label\":\"HDMI\"},{\"value\":\"4039\",\"label\":\"Lightning\"},{\"value\":\"4040\",\"label\":\"Micro USB\"},{\"value\":\"4038\",\"label\":\"Otros\"},{\"value\":\"4042\",\"label\":\"Tipo C\"},{\"value\":\"4338\",\"label\":\"USB\"}]},{\"attribute_id\":\"872\",\"entity_type_id\":\"4\",\"attribute_code\":\"tipo_salida_cable\",\"attribute_model\":null,\"backend_model\":null,\"backend_type\":\"int\",\"backend_table\":null,\"frontend_model\":null,\"frontend_input\":\"select\",\"frontend_label\":\"Tipo de salida\",\"frontend_class\":null,\"source_model\":\"Magento\\\\Eav\\\\Model\\\\Entity\\\\Attribute\\\\Source\\\\Table\",\"is_required\":\"0\",\"is_user_defined\":\"1\",\"default_value\":\"\",\"is_unique\":\"0\",\"note\":null,\"frontend_input_renderer\":null,\"is_global\":\"0\",\"is_visible\":\"1\",\"is_searchable\":\"0\",\"is_filterable\":\"1\",\"is_comparable\":\"1\",\"is_visible_on_front\":\"1\",\"is_html_allowed_on_front\":\"1\",\"is_used_for_price_rules\":\"0\",\"is_filterable_in_search\":\"0\",\"used_in_product_listing\":\"0\",\"used_for_sort_by\":\"0\",\"apply_to\":null,\"is_visible_in_advanced_search\":\"0\",\"position\":\"0\",\"is_wysiwyg_enabled\":\"0\",\"is_used_for_promo_rules\":\"0\",\"is_required_in_admin_store\":\"0\",\"is_used_in_grid\":\"0\",\"is_visible_in_grid\":\"0\",\"is_filterable_in_grid\":\"0\",\"search_weight\":\"1\",\"is_pagebuilder_enabled\":\"0\",\"additional_data\":null,\"entity_type\":{},\"options\":[{\"label\":\" \",\"value\":\"\"},{\"value\":\"4046\",\"label\":\"Auxiliar\"},{\"value\":\"4044\",\"label\":\"Lightning\"},{\"value\":\"4045\",\"label\":\"Micro USB\"},{\"value\":\"4043\",\"label\":\"Otros\"},{\"value\":\"4047\",\"label\":\"Tipo C\"},{\"value\":\"4339\",\"label\":\"USB\"}]}]}]\n",
      "None\n"
     ]
    }
   ],
   "source": [
    "# SEPARAR DICCIONARIO EMC DE EMC_values\n",
    "\n",
    "response_json = response.json()\n",
    "value = response_json[\"value\"]\n",
    "EMCs = response_json[\"EMCs\"]\n",
    "EMC_values = response_json[\"EMC_values\"]\n",
    "print(EMCs)\n",
    "print (EMC_values)"
   ]
  },
  {
   "cell_type": "code",
   "execution_count": null,
   "metadata": {},
   "outputs": [],
   "source": []
  }
 ],
 "metadata": {
  "kernelspec": {
   "display_name": "Python 3",
   "language": "python",
   "name": "python3"
  },
  "language_info": {
   "codemirror_mode": {
    "name": "ipython",
    "version": 3
   },
   "file_extension": ".py",
   "mimetype": "text/x-python",
   "name": "python",
   "nbconvert_exporter": "python",
   "pygments_lexer": "ipython3",
   "version": "3.9.13"
  }
 },
 "nbformat": 4,
 "nbformat_minor": 2
}
