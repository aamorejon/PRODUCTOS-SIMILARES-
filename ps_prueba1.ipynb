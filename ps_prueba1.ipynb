{
 "cells": [
  {
   "cell_type": "code",
   "execution_count": 4,
   "metadata": {},
   "outputs": [
    {
     "name": "stdout",
     "output_type": "stream",
     "text": [
      "Solicitud exitosa\n",
      "{'value': True, 'EMCs': '[{\"attribute_group_id\":\"9827\",\"attribute_group_name\":\"Especificaciones\",\"attribute_group_code\":\"especificaciones\",\"sort_order\":\"13\",\"default_id\":\"0\",\"tab_group_code\":\"basic\",\"attributes\":[{\"attribute_id\":\"388\",\"entity_type_id\":\"4\",\"attribute_code\":\"potencia\",\"attribute_model\":null,\"backend_model\":null,\"backend_type\":\"int\",\"backend_table\":null,\"frontend_model\":null,\"frontend_input\":\"select\",\"frontend_label\":\"Potencia\",\"frontend_class\":null,\"source_model\":\"Magento\\\\\\\\Eav\\\\\\\\Model\\\\\\\\Entity\\\\\\\\Attribute\\\\\\\\Source\\\\\\\\Table\",\"is_required\":\"0\",\"is_user_defined\":\"1\",\"default_value\":\"2893\",\"is_unique\":\"0\",\"note\":null,\"frontend_input_renderer\":null,\"is_global\":\"0\",\"is_visible\":\"1\",\"is_searchable\":\"0\",\"is_filterable\":\"1\",\"is_comparable\":\"1\",\"is_visible_on_front\":\"1\",\"is_html_allowed_on_front\":\"1\",\"is_used_for_price_rules\":\"0\",\"is_filterable_in_search\":\"0\",\"used_in_product_listing\":\"0\",\"used_for_sort_by\":\"0\",\"apply_to\":null,\"is_visible_in_advanced_search\":\"0\",\"position\":\"100\",\"is_wysiwyg_enabled\":\"0\",\"is_used_for_promo_rules\":\"0\",\"is_required_in_admin_store\":\"0\",\"is_used_in_grid\":\"0\",\"is_visible_in_grid\":\"0\",\"is_filterable_in_grid\":\"0\",\"search_weight\":\"1\",\"is_pagebuilder_enabled\":\"0\",\"additional_data\":null,\"entity_type\":{},\"options\":[{\"label\":\" \",\"value\":\"\"},{\"value\":\"2817\",\"label\":\"1 HP\"},{\"value\":\"2863\",\"label\":\"1.5 HP\"},{\"value\":\"2188\",\"label\":\"100 Watts\"},{\"value\":\"2836\",\"label\":\"1000 Watts\"},{\"value\":\"1434\",\"label\":\"1100 Watts\"},{\"value\":\"2845\",\"label\":\"1150 Watts\"},{\"value\":\"2837\",\"label\":\"1200 Watts\"},{\"value\":\"3932\",\"label\":\"130 Watts\"},{\"value\":\"2840\",\"label\":\"1350 Watts\"},{\"value\":\"2841\",\"label\":\"1400 Watts\"},{\"value\":\"2843\",\"label\":\"1440 Watts\"},{\"value\":\"2842\",\"label\":\"1500 Watts\"},{\"value\":\"3930\",\"label\":\"16 Watts\"},{\"value\":\"3736\",\"label\":\"1700 Watts\"},{\"value\":\"2832\",\"label\":\"175 Watts\"},{\"value\":\"2844\",\"label\":\"1800 Watts\"},{\"value\":\"2816\",\"label\":\"2 HP\"},{\"value\":\"3931\",\"label\":\"20 Watts\"},{\"value\":\"4409\",\"label\":\"200 Watts\"},{\"value\":\"4408\",\"label\":\"240 Watts\"},{\"value\":\"1366\",\"label\":\"250 Watts\"},{\"value\":\"2833\",\"label\":\"275 Watts\"},{\"value\":\"2834\",\"label\":\"290 Watts\"},{\"value\":\"3121\",\"label\":\"3 HP\"},{\"value\":\"3928\",\"label\":\"3 Watts\"},{\"value\":\"2888\",\"label\":\"30 Watts\"},{\"value\":\"563\",\"label\":\"350 Watts \"},{\"value\":\"3929\",\"label\":\"4 Watts\"},{\"value\":\"2892\",\"label\":\"40 Watts\"},{\"value\":\"575\",\"label\":\"450 Watts \"},{\"value\":\"4461\",\"label\":\"5 Watts\"},{\"value\":\"2891\",\"label\":\"50 Watts\"},{\"value\":\"2182\",\"label\":\"55 Watts\"},{\"value\":\"2866\",\"label\":\"550 Watts\"},{\"value\":\"2835\",\"label\":\"575 Watts\"},{\"value\":\"2889\",\"label\":\"60 Watts\"},{\"value\":\"569\",\"label\":\"600 Watts \"},{\"value\":\"2890\",\"label\":\"65 Watts\"},{\"value\":\"1617\",\"label\":\"650 Watts\"},{\"value\":\"3784\",\"label\":\"75 Watts\"},{\"value\":\"2311\",\"label\":\"750 Watts\"},{\"value\":\"3740\",\"label\":\"90 Watts\"},{\"value\":\"2893\",\"label\":\"N\\\\/A\"},{\"value\":\"5196\",\"label\":\"36 Watts\"},{\"value\":\"5264\",\"label\":\"180 Watts\"},{\"value\":\"5318\",\"label\":\"800 Watts\"},{\"value\":\"5321\",\"label\":\"8.8 Watts\"},{\"value\":\"5420\",\"label\":\"80 Watts\"}]},{\"attribute_id\":\"828\",\"entity_type_id\":\"4\",\"attribute_code\":\"carga_rapida\",\"attribute_model\":null,\"backend_model\":null,\"backend_type\":\"int\",\"backend_table\":null,\"frontend_model\":null,\"frontend_input\":\"select\",\"frontend_label\":\"Carga r\\\\u00e1pida\",\"frontend_class\":null,\"source_model\":\"Magento\\\\\\\\Eav\\\\\\\\Model\\\\\\\\Entity\\\\\\\\Attribute\\\\\\\\Source\\\\\\\\Table\",\"is_required\":\"0\",\"is_user_defined\":\"1\",\"default_value\":\"\",\"is_unique\":\"0\",\"note\":null,\"frontend_input_renderer\":null,\"is_global\":\"0\",\"is_visible\":\"1\",\"is_searchable\":\"0\",\"is_filterable\":\"1\",\"is_comparable\":\"1\",\"is_visible_on_front\":\"1\",\"is_html_allowed_on_front\":\"1\",\"is_used_for_price_rules\":\"0\",\"is_filterable_in_search\":\"1\",\"used_in_product_listing\":\"0\",\"used_for_sort_by\":\"0\",\"apply_to\":null,\"is_visible_in_advanced_search\":\"0\",\"position\":\"100\",\"is_wysiwyg_enabled\":\"0\",\"is_used_for_promo_rules\":\"0\",\"is_required_in_admin_store\":\"0\",\"is_used_in_grid\":\"0\",\"is_visible_in_grid\":\"0\",\"is_filterable_in_grid\":\"0\",\"search_weight\":\"1\",\"is_pagebuilder_enabled\":\"0\",\"additional_data\":null,\"entity_type\":{},\"options\":[{\"label\":\" \",\"value\":\"\"},{\"value\":\"3780\",\"label\":\"No\"},{\"value\":\"3779\",\"label\":\"Si\"}]},{\"attribute_id\":\"873\",\"entity_type_id\":\"4\",\"attribute_code\":\"tipo_cargador\",\"attribute_model\":null,\"backend_model\":null,\"backend_type\":\"int\",\"backend_table\":null,\"frontend_model\":null,\"frontend_input\":\"select\",\"frontend_label\":\"Tipo de cargador\",\"frontend_class\":null,\"source_model\":\"Magento\\\\\\\\Eav\\\\\\\\Model\\\\\\\\Entity\\\\\\\\Attribute\\\\\\\\Source\\\\\\\\Table\",\"is_required\":\"0\",\"is_user_defined\":\"1\",\"default_value\":\"\",\"is_unique\":\"0\",\"note\":null,\"frontend_input_renderer\":null,\"is_global\":\"0\",\"is_visible\":\"1\",\"is_searchable\":\"0\",\"is_filterable\":\"1\",\"is_comparable\":\"1\",\"is_visible_on_front\":\"1\",\"is_html_allowed_on_front\":\"1\",\"is_used_for_price_rules\":\"0\",\"is_filterable_in_search\":\"0\",\"used_in_product_listing\":\"0\",\"used_for_sort_by\":\"0\",\"apply_to\":null,\"is_visible_in_advanced_search\":\"0\",\"position\":\"100\",\"is_wysiwyg_enabled\":\"0\",\"is_used_for_promo_rules\":\"0\",\"is_required_in_admin_store\":\"0\",\"is_used_in_grid\":\"0\",\"is_visible_in_grid\":\"0\",\"is_filterable_in_grid\":\"0\",\"search_weight\":\"1\",\"is_pagebuilder_enabled\":\"0\",\"additional_data\":null,\"entity_type\":{},\"options\":[{\"label\":\" \",\"value\":\"\"},{\"value\":\"4048\",\"label\":\"De pared\"},{\"value\":\"4049\",\"label\":\"Para carro\"},{\"value\":\"4050\",\"label\":\"Port\\\\u00e1til\"}]},{\"attribute_id\":\"874\",\"entity_type_id\":\"4\",\"attribute_code\":\"incluye_cable\",\"attribute_model\":null,\"backend_model\":null,\"backend_type\":\"int\",\"backend_table\":null,\"frontend_model\":null,\"frontend_input\":\"boolean\",\"frontend_label\":\"Incluye cable\",\"frontend_class\":null,\"source_model\":\"Magento\\\\\\\\Eav\\\\\\\\Model\\\\\\\\Entity\\\\\\\\Attribute\\\\\\\\Source\\\\\\\\Boolean\",\"is_required\":\"0\",\"is_user_defined\":\"1\",\"default_value\":\"0\",\"is_unique\":\"0\",\"note\":null,\"frontend_input_renderer\":null,\"is_global\":\"0\",\"is_visible\":\"1\",\"is_searchable\":\"0\",\"is_filterable\":\"0\",\"is_comparable\":\"1\",\"is_visible_on_front\":\"1\",\"is_html_allowed_on_front\":\"1\",\"is_used_for_price_rules\":\"0\",\"is_filterable_in_search\":\"0\",\"used_in_product_listing\":\"0\",\"used_for_sort_by\":\"0\",\"apply_to\":null,\"is_visible_in_advanced_search\":\"0\",\"position\":\"0\",\"is_wysiwyg_enabled\":\"0\",\"is_used_for_promo_rules\":\"0\",\"is_required_in_admin_store\":\"0\",\"is_used_in_grid\":\"0\",\"is_visible_in_grid\":\"0\",\"is_filterable_in_grid\":\"0\",\"search_weight\":\"1\",\"is_pagebuilder_enabled\":\"0\",\"additional_data\":null,\"entity_type\":{},\"options\":[{\"label\":\"S\\\\u00ed\",\"value\":1},{\"label\":\"No\",\"value\":0}]},{\"attribute_id\":\"1035\",\"entity_type_id\":\"4\",\"attribute_code\":\"tipo_carga\",\"attribute_model\":null,\"backend_model\":null,\"backend_type\":\"int\",\"backend_table\":null,\"frontend_model\":null,\"frontend_input\":\"select\",\"frontend_label\":\"Tipo de carga\",\"frontend_class\":null,\"source_model\":\"Magento\\\\\\\\Eav\\\\\\\\Model\\\\\\\\Entity\\\\\\\\Attribute\\\\\\\\Source\\\\\\\\Table\",\"is_required\":\"0\",\"is_user_defined\":\"1\",\"default_value\":\"\",\"is_unique\":\"0\",\"note\":null,\"frontend_input_renderer\":null,\"is_global\":\"0\",\"is_visible\":\"1\",\"is_searchable\":\"0\",\"is_filterable\":\"1\",\"is_comparable\":\"1\",\"is_visible_on_front\":\"1\",\"is_html_allowed_on_front\":\"1\",\"is_used_for_price_rules\":\"0\",\"is_filterable_in_search\":\"0\",\"used_in_product_listing\":\"0\",\"used_for_sort_by\":\"0\",\"apply_to\":null,\"is_visible_in_advanced_search\":\"0\",\"position\":\"100\",\"is_wysiwyg_enabled\":\"0\",\"is_used_for_promo_rules\":\"0\",\"is_required_in_admin_store\":\"0\",\"is_used_in_grid\":\"0\",\"is_visible_in_grid\":\"0\",\"is_filterable_in_grid\":\"0\",\"search_weight\":\"1\",\"is_pagebuilder_enabled\":\"0\",\"additional_data\":null,\"entity_type\":{},\"options\":[{\"label\":\" \",\"value\":\"\"},{\"value\":\"4337\",\"label\":\"Al\\\\u00e1mbrica\"},{\"value\":\"4336\",\"label\":\"Convencional\"},{\"value\":\"4335\",\"label\":\"Inal\\\\u00e1mbrica\"},{\"value\":\"4334\",\"label\":\"Solar\"},{\"value\":\"5276\",\"label\":\"Bater\\\\u00eda\"}]}]}]', 'EMC_values': '{\"potencia\":\"2888\",\"carga_rapida\":\"3779\",\"tipo_cargador\":\"4048\",\"incluye_cable\":\"0\",\"tipo_carga\":\"4336\"}'}\n"
     ]
    }
   ],
   "source": [
    "#CONEXION A ENDPOINT CON AUTENTICACION DE COOKIES\n",
    "\n",
    "import requests\n",
    "import json\n",
    "\n",
    "# Define la URL del endpoint\n",
    "url = 'https://apps.distelsa.net/FlujoSku/Proveedores/cargarEMCs'\n",
    "login_data = {\n",
    "    'txt_login_username': '11110',\n",
    "    'txt_login_password': 'Chiquilla.21'\n",
    "}\n",
    "\n",
    "\n",
    "# Define encabezados adicionales (opcional)\n",
    "headers = {\n",
    "    'Cookie': 'ARRAffinity=c4ba1e2211e8bb24de1d78e35c68d1196e2f4c3e25e3040ec9f1c47f0412a550; ASP.NET_SessionId=k02jkspuk3mkfe4yplyiifkz',\n",
    "    'Accept': 'application/json',\n",
    "}\n",
    "\n",
    "# Define parámetros de consulta (opcional)\n",
    "params = {\n",
    "    'id': '31865',\n",
    "}\n",
    "\n",
    "\n",
    "# Realiza la solicitud GET al endpoint con la cookie, encabezados y parámetros\n",
    "response = requests.get(url, headers=headers, params=params)\n",
    "\n",
    "# Verifica el estado de la solicitud\n",
    "if response.status_code == 200:\n",
    "    print(\"Solicitud exitosa\")\n",
    "    # Accede al contenido de la respuesta\n",
    "    print(response.json())  # Asumiendo que la respuesta es JSON\n",
    "else:\n",
    "    print(f\"Error en la solicitud: {response.status_code}\")\n"
   ]
  },
  {
   "cell_type": "code",
   "execution_count": 5,
   "metadata": {},
   "outputs": [
    {
     "name": "stdout",
     "output_type": "stream",
     "text": [
      "[{\"attribute_group_id\":\"9827\",\"attribute_group_name\":\"Especificaciones\",\"attribute_group_code\":\"especificaciones\",\"sort_order\":\"13\",\"default_id\":\"0\",\"tab_group_code\":\"basic\",\"attributes\":[{\"attribute_id\":\"388\",\"entity_type_id\":\"4\",\"attribute_code\":\"potencia\",\"attribute_model\":null,\"backend_model\":null,\"backend_type\":\"int\",\"backend_table\":null,\"frontend_model\":null,\"frontend_input\":\"select\",\"frontend_label\":\"Potencia\",\"frontend_class\":null,\"source_model\":\"Magento\\\\Eav\\\\Model\\\\Entity\\\\Attribute\\\\Source\\\\Table\",\"is_required\":\"0\",\"is_user_defined\":\"1\",\"default_value\":\"2893\",\"is_unique\":\"0\",\"note\":null,\"frontend_input_renderer\":null,\"is_global\":\"0\",\"is_visible\":\"1\",\"is_searchable\":\"0\",\"is_filterable\":\"1\",\"is_comparable\":\"1\",\"is_visible_on_front\":\"1\",\"is_html_allowed_on_front\":\"1\",\"is_used_for_price_rules\":\"0\",\"is_filterable_in_search\":\"0\",\"used_in_product_listing\":\"0\",\"used_for_sort_by\":\"0\",\"apply_to\":null,\"is_visible_in_advanced_search\":\"0\",\"position\":\"100\",\"is_wysiwyg_enabled\":\"0\",\"is_used_for_promo_rules\":\"0\",\"is_required_in_admin_store\":\"0\",\"is_used_in_grid\":\"0\",\"is_visible_in_grid\":\"0\",\"is_filterable_in_grid\":\"0\",\"search_weight\":\"1\",\"is_pagebuilder_enabled\":\"0\",\"additional_data\":null,\"entity_type\":{},\"options\":[{\"label\":\" \",\"value\":\"\"},{\"value\":\"2817\",\"label\":\"1 HP\"},{\"value\":\"2863\",\"label\":\"1.5 HP\"},{\"value\":\"2188\",\"label\":\"100 Watts\"},{\"value\":\"2836\",\"label\":\"1000 Watts\"},{\"value\":\"1434\",\"label\":\"1100 Watts\"},{\"value\":\"2845\",\"label\":\"1150 Watts\"},{\"value\":\"2837\",\"label\":\"1200 Watts\"},{\"value\":\"3932\",\"label\":\"130 Watts\"},{\"value\":\"2840\",\"label\":\"1350 Watts\"},{\"value\":\"2841\",\"label\":\"1400 Watts\"},{\"value\":\"2843\",\"label\":\"1440 Watts\"},{\"value\":\"2842\",\"label\":\"1500 Watts\"},{\"value\":\"3930\",\"label\":\"16 Watts\"},{\"value\":\"3736\",\"label\":\"1700 Watts\"},{\"value\":\"2832\",\"label\":\"175 Watts\"},{\"value\":\"2844\",\"label\":\"1800 Watts\"},{\"value\":\"2816\",\"label\":\"2 HP\"},{\"value\":\"3931\",\"label\":\"20 Watts\"},{\"value\":\"4409\",\"label\":\"200 Watts\"},{\"value\":\"4408\",\"label\":\"240 Watts\"},{\"value\":\"1366\",\"label\":\"250 Watts\"},{\"value\":\"2833\",\"label\":\"275 Watts\"},{\"value\":\"2834\",\"label\":\"290 Watts\"},{\"value\":\"3121\",\"label\":\"3 HP\"},{\"value\":\"3928\",\"label\":\"3 Watts\"},{\"value\":\"2888\",\"label\":\"30 Watts\"},{\"value\":\"563\",\"label\":\"350 Watts \"},{\"value\":\"3929\",\"label\":\"4 Watts\"},{\"value\":\"2892\",\"label\":\"40 Watts\"},{\"value\":\"575\",\"label\":\"450 Watts \"},{\"value\":\"4461\",\"label\":\"5 Watts\"},{\"value\":\"2891\",\"label\":\"50 Watts\"},{\"value\":\"2182\",\"label\":\"55 Watts\"},{\"value\":\"2866\",\"label\":\"550 Watts\"},{\"value\":\"2835\",\"label\":\"575 Watts\"},{\"value\":\"2889\",\"label\":\"60 Watts\"},{\"value\":\"569\",\"label\":\"600 Watts \"},{\"value\":\"2890\",\"label\":\"65 Watts\"},{\"value\":\"1617\",\"label\":\"650 Watts\"},{\"value\":\"3784\",\"label\":\"75 Watts\"},{\"value\":\"2311\",\"label\":\"750 Watts\"},{\"value\":\"3740\",\"label\":\"90 Watts\"},{\"value\":\"2893\",\"label\":\"N\\/A\"},{\"value\":\"5196\",\"label\":\"36 Watts\"},{\"value\":\"5264\",\"label\":\"180 Watts\"},{\"value\":\"5318\",\"label\":\"800 Watts\"},{\"value\":\"5321\",\"label\":\"8.8 Watts\"},{\"value\":\"5420\",\"label\":\"80 Watts\"}]},{\"attribute_id\":\"828\",\"entity_type_id\":\"4\",\"attribute_code\":\"carga_rapida\",\"attribute_model\":null,\"backend_model\":null,\"backend_type\":\"int\",\"backend_table\":null,\"frontend_model\":null,\"frontend_input\":\"select\",\"frontend_label\":\"Carga r\\u00e1pida\",\"frontend_class\":null,\"source_model\":\"Magento\\\\Eav\\\\Model\\\\Entity\\\\Attribute\\\\Source\\\\Table\",\"is_required\":\"0\",\"is_user_defined\":\"1\",\"default_value\":\"\",\"is_unique\":\"0\",\"note\":null,\"frontend_input_renderer\":null,\"is_global\":\"0\",\"is_visible\":\"1\",\"is_searchable\":\"0\",\"is_filterable\":\"1\",\"is_comparable\":\"1\",\"is_visible_on_front\":\"1\",\"is_html_allowed_on_front\":\"1\",\"is_used_for_price_rules\":\"0\",\"is_filterable_in_search\":\"1\",\"used_in_product_listing\":\"0\",\"used_for_sort_by\":\"0\",\"apply_to\":null,\"is_visible_in_advanced_search\":\"0\",\"position\":\"100\",\"is_wysiwyg_enabled\":\"0\",\"is_used_for_promo_rules\":\"0\",\"is_required_in_admin_store\":\"0\",\"is_used_in_grid\":\"0\",\"is_visible_in_grid\":\"0\",\"is_filterable_in_grid\":\"0\",\"search_weight\":\"1\",\"is_pagebuilder_enabled\":\"0\",\"additional_data\":null,\"entity_type\":{},\"options\":[{\"label\":\" \",\"value\":\"\"},{\"value\":\"3780\",\"label\":\"No\"},{\"value\":\"3779\",\"label\":\"Si\"}]},{\"attribute_id\":\"873\",\"entity_type_id\":\"4\",\"attribute_code\":\"tipo_cargador\",\"attribute_model\":null,\"backend_model\":null,\"backend_type\":\"int\",\"backend_table\":null,\"frontend_model\":null,\"frontend_input\":\"select\",\"frontend_label\":\"Tipo de cargador\",\"frontend_class\":null,\"source_model\":\"Magento\\\\Eav\\\\Model\\\\Entity\\\\Attribute\\\\Source\\\\Table\",\"is_required\":\"0\",\"is_user_defined\":\"1\",\"default_value\":\"\",\"is_unique\":\"0\",\"note\":null,\"frontend_input_renderer\":null,\"is_global\":\"0\",\"is_visible\":\"1\",\"is_searchable\":\"0\",\"is_filterable\":\"1\",\"is_comparable\":\"1\",\"is_visible_on_front\":\"1\",\"is_html_allowed_on_front\":\"1\",\"is_used_for_price_rules\":\"0\",\"is_filterable_in_search\":\"0\",\"used_in_product_listing\":\"0\",\"used_for_sort_by\":\"0\",\"apply_to\":null,\"is_visible_in_advanced_search\":\"0\",\"position\":\"100\",\"is_wysiwyg_enabled\":\"0\",\"is_used_for_promo_rules\":\"0\",\"is_required_in_admin_store\":\"0\",\"is_used_in_grid\":\"0\",\"is_visible_in_grid\":\"0\",\"is_filterable_in_grid\":\"0\",\"search_weight\":\"1\",\"is_pagebuilder_enabled\":\"0\",\"additional_data\":null,\"entity_type\":{},\"options\":[{\"label\":\" \",\"value\":\"\"},{\"value\":\"4048\",\"label\":\"De pared\"},{\"value\":\"4049\",\"label\":\"Para carro\"},{\"value\":\"4050\",\"label\":\"Port\\u00e1til\"}]},{\"attribute_id\":\"874\",\"entity_type_id\":\"4\",\"attribute_code\":\"incluye_cable\",\"attribute_model\":null,\"backend_model\":null,\"backend_type\":\"int\",\"backend_table\":null,\"frontend_model\":null,\"frontend_input\":\"boolean\",\"frontend_label\":\"Incluye cable\",\"frontend_class\":null,\"source_model\":\"Magento\\\\Eav\\\\Model\\\\Entity\\\\Attribute\\\\Source\\\\Boolean\",\"is_required\":\"0\",\"is_user_defined\":\"1\",\"default_value\":\"0\",\"is_unique\":\"0\",\"note\":null,\"frontend_input_renderer\":null,\"is_global\":\"0\",\"is_visible\":\"1\",\"is_searchable\":\"0\",\"is_filterable\":\"0\",\"is_comparable\":\"1\",\"is_visible_on_front\":\"1\",\"is_html_allowed_on_front\":\"1\",\"is_used_for_price_rules\":\"0\",\"is_filterable_in_search\":\"0\",\"used_in_product_listing\":\"0\",\"used_for_sort_by\":\"0\",\"apply_to\":null,\"is_visible_in_advanced_search\":\"0\",\"position\":\"0\",\"is_wysiwyg_enabled\":\"0\",\"is_used_for_promo_rules\":\"0\",\"is_required_in_admin_store\":\"0\",\"is_used_in_grid\":\"0\",\"is_visible_in_grid\":\"0\",\"is_filterable_in_grid\":\"0\",\"search_weight\":\"1\",\"is_pagebuilder_enabled\":\"0\",\"additional_data\":null,\"entity_type\":{},\"options\":[{\"label\":\"S\\u00ed\",\"value\":1},{\"label\":\"No\",\"value\":0}]},{\"attribute_id\":\"1035\",\"entity_type_id\":\"4\",\"attribute_code\":\"tipo_carga\",\"attribute_model\":null,\"backend_model\":null,\"backend_type\":\"int\",\"backend_table\":null,\"frontend_model\":null,\"frontend_input\":\"select\",\"frontend_label\":\"Tipo de carga\",\"frontend_class\":null,\"source_model\":\"Magento\\\\Eav\\\\Model\\\\Entity\\\\Attribute\\\\Source\\\\Table\",\"is_required\":\"0\",\"is_user_defined\":\"1\",\"default_value\":\"\",\"is_unique\":\"0\",\"note\":null,\"frontend_input_renderer\":null,\"is_global\":\"0\",\"is_visible\":\"1\",\"is_searchable\":\"0\",\"is_filterable\":\"1\",\"is_comparable\":\"1\",\"is_visible_on_front\":\"1\",\"is_html_allowed_on_front\":\"1\",\"is_used_for_price_rules\":\"0\",\"is_filterable_in_search\":\"0\",\"used_in_product_listing\":\"0\",\"used_for_sort_by\":\"0\",\"apply_to\":null,\"is_visible_in_advanced_search\":\"0\",\"position\":\"100\",\"is_wysiwyg_enabled\":\"0\",\"is_used_for_promo_rules\":\"0\",\"is_required_in_admin_store\":\"0\",\"is_used_in_grid\":\"0\",\"is_visible_in_grid\":\"0\",\"is_filterable_in_grid\":\"0\",\"search_weight\":\"1\",\"is_pagebuilder_enabled\":\"0\",\"additional_data\":null,\"entity_type\":{},\"options\":[{\"label\":\" \",\"value\":\"\"},{\"value\":\"4337\",\"label\":\"Al\\u00e1mbrica\"},{\"value\":\"4336\",\"label\":\"Convencional\"},{\"value\":\"4335\",\"label\":\"Inal\\u00e1mbrica\"},{\"value\":\"4334\",\"label\":\"Solar\"},{\"value\":\"5276\",\"label\":\"Bater\\u00eda\"}]}]}]\n",
      "{\"potencia\":\"2888\",\"carga_rapida\":\"3779\",\"tipo_cargador\":\"4048\",\"incluye_cable\":\"0\",\"tipo_carga\":\"4336\"}\n"
     ]
    }
   ],
   "source": [
    "# SEPARAR DICCIONARIO EMC DE EMC_values\n",
    "\n",
    "response_json = response.json()\n",
    "value = response_json[\"value\"]\n",
    "EMCs = response_json[\"EMCs\"]\n",
    "EMC_values = response_json[\"EMC_values\"]\n",
    "print(EMCs)\n",
    "print (EMC_values)"
   ]
  },
  {
   "cell_type": "code",
   "execution_count": 6,
   "metadata": {},
   "outputs": [
    {
     "ename": "AttributeError",
     "evalue": "'bool' object has no attribute 'strip'",
     "output_type": "error",
     "traceback": [
      "\u001b[1;31m---------------------------------------------------------------------------\u001b[0m",
      "\u001b[1;31mAttributeError\u001b[0m                            Traceback (most recent call last)",
      "Cell \u001b[1;32mIn[6], line 4\u001b[0m\n\u001b[0;32m      1\u001b[0m \u001b[38;5;66;03m# Dividir EMC_values en una lista de elementos\u001b[39;00m\n\u001b[0;32m      3\u001b[0m EMC_values_list \u001b[38;5;241m=\u001b[39m EMC_values\u001b[38;5;241m.\u001b[39msplit(\u001b[38;5;124m\"\u001b[39m\u001b[38;5;124m,\u001b[39m\u001b[38;5;124m\"\u001b[39m)\n\u001b[1;32m----> 4\u001b[0m EMC_values_list \u001b[38;5;241m=\u001b[39m [\u001b[43mvalue\u001b[49m\u001b[38;5;241;43m.\u001b[39;49m\u001b[43mstrip\u001b[49m(\u001b[38;5;124m'\u001b[39m\u001b[38;5;124m\"\u001b[39m\u001b[38;5;124m{\u001b[39m\u001b[38;5;124m }\u001b[39m\u001b[38;5;124m'\u001b[39m)]\n\u001b[0;32m      5\u001b[0m \u001b[38;5;28mprint\u001b[39m (EMC_values_list)\n\u001b[0;32m      6\u001b[0m \u001b[38;5;66;03m# Iterar sobre los elementos de la lista\u001b[39;00m\n",
      "\u001b[1;31mAttributeError\u001b[0m: 'bool' object has no attribute 'strip'"
     ]
    }
   ],
   "source": [
    "\n",
    "# Dividir EMC_values en una lista de elementos\n",
    "\n",
    "EMC_values_list = EMC_values.split(\",\")\n",
    "EMC_values_list = [value.strip('\"{ }')]\n",
    "print (EMC_values_list)\n",
    "# Iterar sobre los elementos de la lista\n",
    "for i, item in enumerate(EMC_values_list):\n",
    "    print (i)\n",
    "    print (item)\n",
    "    attributes = item.split(\":\")  # Separar características y valores por \":\" si el formato es correcto\n",
    "    if len(attributes) == 2:  # Verificar si el elemento tiene el formato correcto\n",
    "        characteristic, value = attributes\n",
    "        updated_value = EMCs.get(value.strip(), value.strip())  # Buscar y reemplazar el valor si existe en EMCs\n",
    "        EMC_values_list[i] = f'{characteristic}:\"{updated_value}\"'\n",
    "\n",
    "# Volver a unir la lista en una cadena separada por comas\n",
    "updated_EMC_values = \",\".join(EMC_values_list)\n",
    "\n",
    "print(updated_EMC_values)\n",
    "\n",
    "\n"
   ]
  },
  {
   "cell_type": "code",
   "execution_count": null,
   "metadata": {},
   "outputs": [],
   "source": []
  },
  {
   "cell_type": "code",
   "execution_count": null,
   "metadata": {},
   "outputs": [],
   "source": []
  }
 ],
 "metadata": {
  "kernelspec": {
   "display_name": "Python 3",
   "language": "python",
   "name": "python3"
  },
  "language_info": {
   "codemirror_mode": {
    "name": "ipython",
    "version": 3
   },
   "file_extension": ".py",
   "mimetype": "text/x-python",
   "name": "python",
   "nbconvert_exporter": "python",
   "pygments_lexer": "ipython3",
   "version": "3.9.13"
  }
 },
 "nbformat": 4,
 "nbformat_minor": 2
}
